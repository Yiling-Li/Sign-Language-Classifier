{
  "cells": [
    {
      "cell_type": "markdown",
      "metadata": {
        "id": "view-in-github",
        "colab_type": "text"
      },
      "source": [
        "<a href=\"https://colab.research.google.com/github/Yiling-Li/Sign-Language-Classifier/blob/main/a2.ipynb\" target=\"_parent\"><img src=\"https://colab.research.google.com/assets/colab-badge.svg\" alt=\"Open In Colab\"/></a>"
      ]
    },
    {
      "cell_type": "markdown",
      "metadata": {
        "id": "ofl3BMwcxtOF"
      },
      "source": [
        "# CSC413 Assignment 2: American Sign Language\n",
        "\n",
        "**Deadline**: March 4, 2022 by 10pm\n",
        "\n",
        "**Submission**: Compile and submit a PDF report containing your code, outputs,\n",
        "and your written solutions. Do not use screenshots and images to present\n",
        "textual code/output (other than legible, hand-written answer).\n",
        "You may export the completed notebook on Google Colab, but if you do so\n",
        "**it is your responsibly to make sure that your code and answers do not get cut off**.\n",
        "\n",
        "**Late Submission**: Please see the syllabus for the late submission criteria.\n",
        "\n",
        "**Working with a partner**: You may work with a partner for this assignment.\n",
        "If you decide to work with a partner, please create your group on Markus by\n",
        "the deadline, even if you intend to use grace tokens. Markus does not allow\n",
        "you to create groups past the deadline, even if you have grace tokens remaining.\n",
        "\n",
        "[American Sign Language (ASL)](https://en.wikipedia.org/wiki/American_Sign_Language)\n",
        "is a complete, complex language that employs signs made by \n",
        "moving the hands combined with facial expressions and postures of the body. \n",
        "It is the primary language of many North Americans who are deaf and is one of several \n",
        "communication options used by people who are deaf or hard-of-hearing.\n",
        "\n",
        "The hand gestures representing English alphabets are shown below.\n",
        "\n",
        "In this assignment, we will \n",
        "classify a subset of these hand gesture images using convolutional neural networks.\n",
        "Specifically, given an image of a hand showing one of the letters A-I, we want to detect\n",
        "which letter is being represented.\n",
        "\n",
        "We will explore several convolutional architectures.\n",
        "While we will give you a tiny\n",
        "big of starter code to help make data processing a bit easier,\n",
        "you'll have a chance to build your neural network all by yourself!\n",
        "\n",
        "You may modify the starter code as you see fit, including changing the signatures of\n",
        "functions and adding/removing helper functions. However, please make sure that your\n",
        "TA can understand what you are doing and why."
      ]
    },
    {
      "cell_type": "code",
      "execution_count": null,
      "metadata": {
        "id": "Rl34tLr_xtOL"
      },
      "outputs": [],
      "source": [
        "import matplotlib\n",
        "import numpy as np\n",
        "import matplotlib.pyplot as plt\n",
        "\n",
        "import torch\n",
        "import torch.nn as nn\n",
        "import torch.optim as optim\n",
        "import torchvision.models, torchvision.datasets\n",
        "\n",
        "%matplotlib inline"
      ]
    },
    {
      "cell_type": "markdown",
      "metadata": {
        "id": "onYQxb1bxtOM"
      },
      "source": [
        "## Question 1. Data\n",
        "\n",
        "If you are using your own machine, download the data from the course website on Quercus.\n",
        "\n",
        "If you are using Google Colab, download the data set to your Google Drive by going to\n",
        "the link [https://drive.google.com/drive/folders/1aPL24P610NHLvt9exk6-B7SzGk3R8Q48?usp=sharing](https://drive.google.com/drive/folders/1aPL24P610NHLvt9exk6-B7SzGk3R8Q48?usp=sharing)\n",
        "and selecting \"Add to My Drive\".\n",
        "This is faster than downloading the data from the course website.\n",
        "\n",
        "Then, mount Google Drive from your Google Colab notebook:"
      ]
    },
    {
      "cell_type": "code",
      "execution_count": null,
      "metadata": {
        "id": "DkfliLlaxtON"
      },
      "outputs": [],
      "source": [
        "from google.colab import drive\n",
        "drive.mount('/content/gdrive')"
      ]
    },
    {
      "cell_type": "markdown",
      "metadata": {
        "id": "zdV8HsZIxtOO"
      },
      "source": [
        "The file structure we use is intentional,\n",
        "so that we can use `torchvision.datasets.ImageFolder`\n",
        "to help load our data and create labels."
      ]
    },
    {
      "cell_type": "code",
      "execution_count": null,
      "metadata": {
        "id": "nu94AmldxtOO"
      },
      "outputs": [],
      "source": [
        "train_path = \"/content/gdrive/My Drive/CSC413/asl_data/train/\"\n",
        "valid_path = \"/content/gdrive/My Drive/CSC413/asl_data/valid/\" \n",
        "test_path = \"/content/gdrive/My Drive/CSC413/asl_data/test/\"   \n",
        "\n",
        "train_data = torchvision.datasets.ImageFolder(train_path, transform=torchvision.transforms.ToTensor())\n",
        "valid_data = torchvision.datasets.ImageFolder(valid_path, transform=torchvision.transforms.ToTensor())\n",
        "test_data = torchvision.datasets.ImageFolder(test_path, transform=torchvision.transforms.ToTensor())"
      ]
    },
    {
      "cell_type": "markdown",
      "metadata": {
        "id": "RTDDHla8xtOP"
      },
      "source": [
        "### Part (a) -- 2 pts\n",
        "\n",
        "Read up on what `torchvision.datasets.ImageFolder` does for us here\n",
        "[https://pytorch.org/vision/stable/datasets.html#torchvision.datasets.ImageFolder](https://pytorch.org/vision/stable/datasets.html#torchvision.datasets.ImageFolder)\n",
        "\n",
        "We can iterate through the one training data point at a time like this:"
      ]
    },
    {
      "cell_type": "code",
      "execution_count": null,
      "metadata": {
        "colab": {
          "base_uri": "https://localhost:8080/"
        },
        "id": "SWAJGfh-xtOQ",
        "outputId": "1795515d-2b1d-4451-aa58-a3d687a145de"
      },
      "outputs": [
        {
          "output_type": "stream",
          "name": "stdout",
          "text": [
            "torch.Size([3, 224, 224])\n",
            "0\n"
          ]
        }
      ],
      "source": [
        "for x, y in train_data:\n",
        "    print(x.shape)\n",
        "    print(y)\n",
        "    break # uncomment if you'd like"
      ]
    },
    {
      "cell_type": "markdown",
      "metadata": {
        "id": "l7svcqZAxtOQ"
      },
      "source": [
        "What do the variables `x` and `y` contain? What is the shape of our images?\n",
        "What are our labels? How did PyTorch generate these labels from the folder structure?\n",
        "\n",
        "Before answering this question, you will need to look at the folder structure\n",
        "and look at some images in the data set."
      ]
    },
    {
      "cell_type": "code",
      "execution_count": null,
      "metadata": {
        "id": "XigL8SjDxtOR"
      },
      "outputs": [],
      "source": [
        "# Your explanation goes here"
      ]
    },
    {
      "cell_type": "markdown",
      "metadata": {
        "id": "VWPfSXf-KUQv"
      },
      "source": [
        "**Response:** The variable x contains the image. \n",
        "\n",
        "The variable y contain the label. \n",
        "\n",
        "The shape of our images is 3\\*224*224.\n",
        "\n",
        "Our labels are A, B, C, D, E, F, G, H, I.\n",
        "\n",
        "PyTorch assigned all images in a folder with the same label. Labels were generated based on the alphabetical order of the folders. \n",
        "So images in folder A have the label 0, images in folder B have the label 1, images in folder C have the label 2, and so on until folder I."
      ]
    },
    {
      "cell_type": "markdown",
      "metadata": {
        "id": "Ccj_72etxtOR"
      },
      "source": [
        "### Part (b) -- 2 pts\n",
        "\n",
        "We saw in the earlier tutorials that PyTorch has a utility to help us\n",
        "create minibatches with our data. We can use the same DataLoader helper\n",
        "here:"
      ]
    },
    {
      "cell_type": "code",
      "execution_count": null,
      "metadata": {
        "colab": {
          "base_uri": "https://localhost:8080/"
        },
        "id": "h2MSa6rVxtOS",
        "outputId": "498a26c9-f381-49ac-8902-a32e27072404"
      },
      "outputs": [
        {
          "output_type": "stream",
          "name": "stdout",
          "text": [
            "torch.Size([10, 3, 224, 224])\n",
            "tensor([8, 3, 3, 8, 0, 7, 3, 0, 8, 6])\n"
          ]
        }
      ],
      "source": [
        "train_loader = torch.utils.data.DataLoader(train_data, batch_size=10, shuffle=True)\n",
        "\n",
        "for x, y in train_loader:\n",
        "    print(x.shape)\n",
        "    print(y)\n",
        "    break # uncomment if you'd like"
      ]
    },
    {
      "cell_type": "markdown",
      "metadata": {
        "id": "YPtOsEu0xtOS"
      },
      "source": [
        "What do the variables `x` and `y` contain? What are their shapes?\n",
        "What data do they contain?"
      ]
    },
    {
      "cell_type": "code",
      "execution_count": null,
      "metadata": {
        "id": "L3gtuGWzxtOS"
      },
      "outputs": [],
      "source": [
        "# Your explanation goes here "
      ]
    },
    {
      "cell_type": "markdown",
      "metadata": {
        "id": "bhg0X8BYQgnS"
      },
      "source": [
        "**Response:** The variable x contains a tensor. It represents a batch of 10 images from the training set. x is shape 10\\*3\\*224*224.\n",
        "\n",
        "The variable y contains a tensor of shape 10. Data contained is the labels of the 10 images in the batch x. y is shape 10.\n",
        "\n"
      ]
    },
    {
      "cell_type": "markdown",
      "metadata": {
        "id": "LUiFuv96xtOT"
      },
      "source": [
        "### Part (c) -- 1 pts\n",
        "\n",
        "How many images are there in the training, validation, and test sets?"
      ]
    },
    {
      "cell_type": "code",
      "execution_count": null,
      "metadata": {
        "colab": {
          "base_uri": "https://localhost:8080/"
        },
        "id": "PMxPy14JxtOT",
        "outputId": "d618119a-6ca2-4e6b-c65a-338bf2ef2c2a"
      },
      "outputs": [
        {
          "output_type": "stream",
          "name": "stdout",
          "text": [
            "The number of images in training set: 733\n",
            "The number of images in validation set: 207\n",
            "The number of images in test set: 223\n"
          ]
        }
      ],
      "source": [
        "# Your answer (and possibly code) goes here\n",
        "print(\"The number of images in training set:\", len(train_data))\n",
        "print(\"The number of images in validation set:\", len(valid_data))\n",
        "print(\"The number of images in test set:\", len(test_data))"
      ]
    },
    {
      "cell_type": "markdown",
      "metadata": {
        "id": "qjV8cDmLxtOT"
      },
      "source": [
        "### Part (d) -- 3 pts\n",
        "\n",
        "This dataset was generated by students in past machine learning courses, where\n",
        "each student took several photos of themselves demonstrating the ASL hand gestures.\n",
        "The file names of the images follow the following convention:\n",
        "`<student-identifier>_<letter>_<img-count>.jpg`\n",
        "\n",
        "When we split the data into training, validation, and test sets, we took care\n",
        "to put photos taken by the same person in the same data set. In other words, if one of the\n",
        "student's photo is in the training set, then other photos taken by the same student\n",
        "will also be placed in the training set.\n",
        "\n",
        "This way of separating the dataset into training, validation and test is more nuanced\n",
        "than simply randomly splitting the photos into training/validation/test.\n",
        "\n",
        "Explain why it is important to make sure that we split the photos into the\n",
        "three datasets **by student**, so that photos from the same student are always in the\n",
        "same set."
      ]
    },
    {
      "cell_type": "code",
      "execution_count": null,
      "metadata": {
        "id": "hvzv1VKcxtOU"
      },
      "outputs": [],
      "source": [
        "# Your answer goes here"
      ]
    },
    {
      "cell_type": "markdown",
      "metadata": {
        "id": "bZG8NPfSE9c7"
      },
      "source": [
        "**Response:** If we don't split the photos by student, then it is possible that the training, validation, and testing data will be provided by the same student. As a result, the validation and testing accuracy of the model will be inflated, since the model was trained on similar data (i.e. photos from the same student). In addition, the test set and validation set should represent data that the model has not seen before. If all 3 sets have photos from the same student, then this will not be the case."
      ]
    },
    {
      "cell_type": "markdown",
      "metadata": {
        "id": "RgLn9_jwxtOU"
      },
      "source": [
        "## Question 2. Model Building\n",
        "\n",
        "#### Part (a) Convolutional Network - 5 pt\n",
        "\n",
        "Build a convolutional neural network model that takes the (224x224 RGB) image as input, and predicts\n",
        "the letter. Your model should be a subclass of `nn.Module`. \n",
        "You may want to review the Colab notebook demo from week 6 lectures. There is a small convolutional\n",
        "neural network included in the notebook.\n",
        "\n",
        "Here are some rules of thumb when determining your convolutional neural network architecture:\n",
        "\n",
        "- Nowadays, people prefer small kernel sizes (e.g. 3x3 or 5x5), with many convolutional layers\n",
        "  (we suggest 3-4 to start).\n",
        "- Use a downsampling operation after (or with) each convolution layer\n",
        "- In a typical convolutional neural network architectures, every time we downsample, we double the\n",
        "  number of features (channels). This is so that we don't lose too much information in each layer.\n",
        "  You may wish to make the number of output channels in your first convolutional layer a variable,\n",
        "  and double this value in every subsequent convolutions.\n",
        "- Typical CNNS will have a few (1-3) fully-connected layers as the final layers.\n",
        "\n",
        "Explain your choice of neural network architecture: how many layers did you choose?\n",
        "What types of layers did you use? Were they fully-connected or convolutional? What about other\n",
        "decisions like pooling layers, activation functions, number of channels / hidden units.\n",
        "\n",
        "Do not use dropout or batch normalization in this architecture."
      ]
    },
    {
      "cell_type": "code",
      "execution_count": null,
      "metadata": {
        "id": "DD9d1WcIxtOU"
      },
      "outputs": [],
      "source": [
        "# Your code goes here\n",
        "\n",
        "class CNN(nn.Module):\n",
        "    def __init__(self):\n",
        "        super(CNN, self).__init__()\n",
        "        self.conv1 = nn.Conv2d(in_channels=3,\n",
        "                               out_channels=4,\n",
        "                               kernel_size=3,\n",
        "                               padding=1)\n",
        "        self.pool = nn.MaxPool2d(2, 2)\n",
        "        self.conv2 = nn.Conv2d(in_channels=4,\n",
        "                               out_channels=8,\n",
        "                               kernel_size=3,\n",
        "                               padding=1)\n",
        "        self.pool = nn.MaxPool2d(2, 2)\n",
        "        self.conv3 = nn.Conv2d(in_channels=8,\n",
        "                               out_channels=16,\n",
        "                               kernel_size=3,\n",
        "                               padding=1)\n",
        "        self.fc = nn.Linear(16 * 28 * 28, 9)\n",
        "    def forward(self, x):\n",
        "        x = self.pool(torch.relu(self.conv1(x)))\n",
        "        x = self.pool(torch.relu(self.conv2(x)))\n",
        "        x = self.pool(torch.relu(self.conv3(x)))\n",
        "        x = x.view(-1, 16 * 28 * 28)\n",
        "        return self.fc(x)"
      ]
    },
    {
      "cell_type": "markdown",
      "metadata": {
        "id": "-pExpi9vwNlI"
      },
      "source": [
        "For the neural network architecture, I choose 4 layers in total.  There are three convolutional layers and one fully connected layers as the final layers. \n",
        "\n",
        "Conv1: input with 3 channels, output with 4 channels, kernel size of 3\\*3, adding 1 zero padding around the image\n",
        "\n",
        "There are 4\\*112*112 hidden units after the first convolutional layers.\n",
        "\n",
        "Conv2: input with 4 channels, output with 8 channels, kernel size of 3\\*3, adding 1 zero padding around the image\n",
        "\n",
        "There are 8\\*56*56 hidden units after the second convolutional layers.\n",
        "\n",
        "Conv3: input with 8 channels, output with 16 channels, kernel size of 3\\*3, adding 1 zero padding around the image\n",
        "\n",
        "There are 16\\*28*28 hidden units after the third convolutional layer.\n",
        "\n",
        "The last layer is a fully connected layer.\n",
        "\n",
        "Max pooling with window size 2x2 is used for pooling layers.  \n",
        "\n",
        "ReLu activation function is used to compute activations for each layer.\n",
        "\n",
        "\n"
      ]
    },
    {
      "cell_type": "markdown",
      "metadata": {
        "id": "l5Puw_mLxtOV"
      },
      "source": [
        "#### Part (b) Convolutional Network with Batch Normalization - 3 pt\n",
        "\n",
        "Build a variation of your convolutional neural network from part (a), and \n",
        "add either at least one batch normalization *or* at least one dropout layer,\n",
        "but **not** both.\n",
        "You will need to read the PyTorch documentation to figure out how these layers\n",
        "function."
      ]
    },
    {
      "cell_type": "code",
      "execution_count": null,
      "metadata": {
        "id": "PZ8HGP_axtOV"
      },
      "outputs": [],
      "source": [
        "# Your code goes here\n",
        "\n",
        "class CNN_bn(nn.Module):\n",
        "    def __init__(self):\n",
        "        super(CNN_bn, self).__init__()\n",
        "        self.conv1 = nn.Conv2d(in_channels=3,\n",
        "                               out_channels=4,\n",
        "                               kernel_size=3,\n",
        "                               padding=1)\n",
        "        self.pool = nn.MaxPool2d(2, 2)\n",
        "        self.conv1_bn = nn.BatchNorm2d(4)\n",
        "\n",
        "        self.conv2 = nn.Conv2d(in_channels=4,\n",
        "                               out_channels=8,\n",
        "                               kernel_size=3,\n",
        "                               padding=1)\n",
        "        self.pool = nn.MaxPool2d(2, 2)\n",
        "        self.conv2_bn = nn.BatchNorm2d(8)\n",
        "\n",
        "        self.conv3 = nn.Conv2d(in_channels=8,\n",
        "                               out_channels=16,\n",
        "                               kernel_size=3,\n",
        "                               padding=1)\n",
        "        \n",
        "        self.fc = nn.Linear(16 * 28 * 28, 9)\n",
        "    def forward(self, x):\n",
        "        x = self.pool(torch.relu(self.conv1(x)))\n",
        "        x = self.pool(torch.relu(self.conv2(x)))\n",
        "        x = self.pool(torch.relu(self.conv3(x)))\n",
        "        x = x.view(-1, 16 * 28 * 28)\n",
        "        return self.fc(x)"
      ]
    },
    {
      "cell_type": "markdown",
      "metadata": {
        "id": "cATv1cNSxtOW"
      },
      "source": [
        "#### Part (c) Architecture Decision - 1 pt\n",
        "\n",
        "It does not make sense to add the batch normalization or dropout layer as\n",
        "your *final* layer. Explain why this is the case."
      ]
    },
    {
      "cell_type": "code",
      "execution_count": null,
      "metadata": {
        "id": "XMz52L5NxtOW"
      },
      "outputs": [],
      "source": [
        "# Your answer goes here"
      ]
    },
    {
      "cell_type": "markdown",
      "metadata": {
        "id": "RyMlD2CJHbtg"
      },
      "source": [
        "\n",
        "The final layer is the output of the model, which is the logits in this case. If we normalized the logits, the variance would be 1 and the mean would be 0. This could skew the results if the logits produced by the model have a variance much greater than 1 or much less than 1. As a result the accuracy of the predictions would be low.\n",
        "\n",
        "If the final layer was the dropout layer, then some of the outputs of the final layer would be set to 0, meaning the logits would be 0. This would not make sense, because the activations from the previous layers would have no affect at all on the logits."
      ]
    },
    {
      "cell_type": "markdown",
      "metadata": {
        "id": "9bNcCFgExtOX"
      },
      "source": [
        "## Question 3. Training Code and Sanity Checking\n",
        "\n",
        "#### Part (a) Accuracy - 3 pt\n",
        "\n",
        "Compute the `get_accuracy` function, which computes the model accuracy across a dataset:"
      ]
    },
    {
      "cell_type": "code",
      "execution_count": null,
      "metadata": {
        "id": "y3ENaSedxtOX"
      },
      "outputs": [],
      "source": [
        "\n",
        "def get_accuracy(model, data):\n",
        "    # note: why should we use a larger batch size here?\n",
        "    loader = torch.utils.data.DataLoader(data, batch_size=256)\n",
        "\n",
        "    model.eval() # annotate model for evaluation (why do we need to do this?)\n",
        "\n",
        "    correct = 0\n",
        "    total = 0\n",
        "    for imgs, labels in loader:\n",
        "      \n",
        "      output = model(imgs)\n",
        "\n",
        "      #following code from lec 6 demo\n",
        "      pred = output.max(1, keepdim=True)[1] # get the index of the max log-probability\n",
        "      correct += pred.eq(labels.view_as(pred)).sum().item()\n",
        "      total += imgs.shape[0]\n",
        "    \n",
        "    return correct / total\n"
      ]
    },
    {
      "cell_type": "markdown",
      "metadata": {
        "id": "KzuFsh2TxtOX"
      },
      "source": [
        "#### Part (b) Training Code - 8 pt\n",
        "\n",
        "Write code to train your neural network given some training data. Your training code\n",
        "should make it easy to tweak hyperparameters. Make sure that you are checkpointing\n",
        "your models from time to time (the frequency is up to you). \n",
        "\n",
        "Here's what we will be looking for:\n",
        "\n",
        "- using the data loader to load the training data\n",
        "- using the correct choice of loss function and a reasonable optimizer\n",
        "- shuffling the training data at the start of each epoch\n",
        "- in each iteration, take `batch_size` samples from the data set\n",
        "- use the correct labels from the data set\n",
        "- computing the forward and backward passes\n",
        "- after every epoch, **checkpoint your model** (A1 had instructions and examples for how to do this)\n",
        "- after every epoch, report the accuracies for the training set and validation set\n",
        "- track the training curve information and **plot the training curve**\n",
        "- correctly handling edge cases (e.g. why might the last batch be smaller than the rest?)\n",
        "\n",
        "Don't forget the checkpointing step. You will need to load your model weights later."
      ]
    },
    {
      "cell_type": "code",
      "execution_count": null,
      "metadata": {
        "id": "RqfuDBMzxtOY"
      },
      "outputs": [],
      "source": [
        "def train(model, train_data, valid_data, batch_size=32, weight_decay=0.0,\n",
        "           learning_rate=0.001, num_epochs=7):\n",
        "  \n",
        "    # load training data\n",
        "    #set shuffle=True to reshuffle data at every epoch\n",
        "    train_loader = torch.utils.data.DataLoader(train_data,\n",
        "                                               batch_size=batch_size, \n",
        "                                               shuffle=True)\n",
        "     \n",
        "     # loss function\n",
        "    criterion = nn.CrossEntropyLoss()\n",
        "\n",
        "     # use Adam optimizer\n",
        "    optimizer = optim.Adam(model.parameters(),\n",
        "                               lr=learning_rate,\n",
        "                               weight_decay=weight_decay)\n",
        "    \n",
        "    # track learning curve\n",
        "    iters, losses, train_acc, val_acc = [], [], [], []\n",
        "    # training\n",
        "    n = 0 # the number of iterations (for plotting)\n",
        "    for epoch in range(num_epochs):\n",
        "\n",
        "        #take batch_size samples in each iteration.\n",
        "        #each iteration here computes an entire batch\n",
        "        for imgs, labels in iter(train_loader):\n",
        "            if imgs.size()[0] < batch_size:\n",
        "                continue\n",
        "\n",
        "            model.train() # annotate model for training\n",
        "            out = model(imgs) #forward pass\n",
        "            loss = criterion(out, labels)\n",
        "            loss.backward() #backward pass\n",
        "            optimizer.step()\n",
        "            optimizer.zero_grad()\n",
        "\n",
        "            \"\"\"       \n",
        "            If you want to **checkpoint** your model weights (i.e. save the\n",
        "            model weights to Google Drive), then the parameter\n",
        "            `checkpoint_path` should be a string path with `{}` to be replaced\n",
        "            by the iteration count:\n",
        "\n",
        "          For example, calling \n",
        "\n",
        "          >>> run_pytorch_gradient_descent(model, ...,\n",
        "            checkpoint_path = '/content/gdrive/My Drive/CSC413/mlp/ckpt-{}.pk')\n",
        "\n",
        "        will save the model parameters in Google Drive.\n",
        "        You will have to make sure that the path exists (i.e. you'll need to create\n",
        "        the folder CSC413, mlp, etc...). \n",
        "        Your Google Drive will be populated with files (if checkpointing every 500 iterations):\n",
        "\n",
        "        - /content/gdrive/My Drive/CSC413/mlp/ckpt-500.pk\n",
        "        - /content/gdrive/My Drive/CSC413/mlp/ckpt-1000.pk\n",
        "        - ...\n",
        "\n",
        "        To load the weights at a later time, you can run:\n",
        "\n",
        "        >>> model.load_state_dict(torch.load('/content/gdrive/My Drive/CSC413/mlp/ckpt-500.pk'))\n",
        "\n",
        "            \"\"\"\n",
        "            # save the current training information\n",
        "            iters.append(n)\n",
        "            losses.append(float(loss)/batch_size)             # compute *average* loss\n",
        "            train_acc.append(get_accuracy(model, train_data)) # compute training accuracy \n",
        "            val_acc.append(get_accuracy(model, valid_data))  # compute validation accuracy\n",
        "\n",
        "          \n",
        "            if (n%100 == 0):\n",
        "              #checkpoint weights\n",
        "              checkpoint_path = '/content/gdrive/My Drive/CSC413/A2-checkpoint/ckpt-{}.pk'\n",
        "              torch.save(model.state_dict(), checkpoint_path.format(n))\n",
        "            n += 1\n",
        "\n",
        "    # plotting\n",
        "    plt.title(\"Learning Curve\")\n",
        "    plt.plot(iters, losses, label=\"Train\")\n",
        "    plt.xlabel(\"Iterations\")\n",
        "    plt.ylabel(\"Loss\")\n",
        "    plt.show()\n",
        "\n",
        "    plt.title(\"Learning Curve\")\n",
        "    plt.plot(iters, train_acc, label=\"Train\")\n",
        "    plt.plot(iters, val_acc, label=\"Validation\")\n",
        "    plt.xlabel(\"Iterations\")\n",
        "    plt.ylabel(\"Training Accuracy\")\n",
        "    plt.legend(loc='best')\n",
        "    plt.show()\n",
        "\n",
        "    print(\"Final Training Accuracy: {}\".format(train_acc[-1]))\n",
        "    print(\"Final Validation Accuracy: {}\".format(val_acc[-1]))\n",
        "\n",
        "\n"
      ]
    },
    {
      "cell_type": "markdown",
      "metadata": {
        "id": "BV--DV6LxtOY"
      },
      "source": [
        "#### Part (c) Overfit to a Small Dataset - 2 pt\n",
        "\n",
        "One way to sanity check our neural network model and training code is to check whether \n",
        "each of your two models is capable of \"memorizing\" or \"overfitting\" to a small dataset. Construct\n",
        "a small dataset (e.g. 1-2 image per class). Then show that your model and training code\n",
        "is capable of overfitting on that small dataset. You should be able to obtain a 100% \n",
        "training accuracy on that small dataset relatively quickly (i.e. within a few hundred iterations,\n",
        "possibly more depending on your learning rate).\n",
        "\n",
        "This question is really here to make sure that your model/training code is correct.\n",
        "The question itself is not worth much, but your results here will diagnose issues\n",
        "from other parts of your code.\n",
        "If your models cannot overfit the small dataset quickly, then there is\n",
        "a bug in either your model code and/or your training code. Fix the issues\n",
        "before you proceed to the next step."
      ]
    },
    {
      "cell_type": "code",
      "execution_count": null,
      "metadata": {
        "id": "uM-qK3xZxtOZ"
      },
      "outputs": [],
      "source": [
        "\n",
        "#indices into training_data, pointing to the datapoints we will use \n",
        "#   in the small dataset\n",
        "subset_indices = []\n",
        "\n",
        "curr_class = 0  #the current class/label. We want 2 images for each class.\n",
        "count = 0       #count of images in curr_class\n",
        "index = 0       #index of current image in train_data\n",
        "\n",
        "#iterate through image data. each img is tuple (tensor of image data, label) \n",
        "for img in train_data:\n",
        "  if (curr_class == img[1]) and (count < 2):\n",
        "    subset_indices.append(index)\n",
        "    count += 1\n",
        "\n",
        "  elif count >= 2:\n",
        "    curr_class += 1\n",
        "    count = 0\n",
        "  index += 1\n",
        "\n",
        "#now make the small dataset using Subset function and subset_indices.\n",
        "#contains 2 images for each class.\n",
        "subset = torch.utils.data.Subset(train_data, subset_indices)"
      ]
    },
    {
      "cell_type": "code",
      "execution_count": null,
      "metadata": {
        "colab": {
          "base_uri": "https://localhost:8080/",
          "height": 608
        },
        "id": "DlQCEYc4RZX2",
        "outputId": "0dc8cb8e-4bb7-435d-e0d4-6b036b734445"
      },
      "outputs": [
        {
          "output_type": "display_data",
          "data": {
            "text/plain": [
              "<Figure size 432x288 with 1 Axes>"
            ],
            "image/png": "[encoded data removed]"
          },
          "metadata": {
            "needs_background": "light"
          }
        },
        {
          "output_type": "display_data",
          "data": {
            "text/plain": [
              "<Figure size 432x288 with 1 Axes>"
            ],
            "image/png": "[encoded data removed]"
          },
          "metadata": {
            "needs_background": "light"
          }
        },
        {
          "output_type": "stream",
          "name": "stdout",
          "text": [
            "Final Training Accuracy: 1.0\n",
            "Final Validation Accuracy: 0.27053140096618356\n"
          ]
        }
      ],
      "source": [
        "\"\"\"\n",
        "Show that your model and training code is capable of overfitting on that small dataset. \n",
        "You should be able to obtain a 100% training accuracy on that small dataset relatively quickly \n",
        "(i.e. within a few hundred iterations, possibly more depending on your learning rate).\n",
        "\"\"\"\n",
        "cnn = CNN()\n",
        "train(cnn, subset, valid_data, batch_size=18,weight_decay=0.0, learning_rate=0.001, num_epochs=200)"
      ]
    },
    {
      "cell_type": "markdown",
      "metadata": {
        "id": "iGc1vtCPxtOZ"
      },
      "source": [
        "## Question 4. Training\n",
        "\n",
        "### Part (a) -- 5 points\n",
        "\n",
        "Train your first network on your training set.\n",
        "Plot the training curve, and include your plot in your writeup.\n",
        "\n",
        "Make sure that you are checkpointing frequently!"
      ]
    },
    {
      "cell_type": "code",
      "execution_count": null,
      "metadata": {
        "colab": {
          "base_uri": "https://localhost:8080/",
          "height": 608
        },
        "id": "EjrsPMOQXEGZ",
        "outputId": "362d8f57-e7aa-4883-f343-2a4f1f981024"
      },
      "outputs": [
        {
          "data": {
            "image/png": "[encoded data removed]",
            "text/plain": [
              "<Figure size 432x288 with 1 Axes>"
            ]
          },
          "metadata": {},
          "output_type": "display_data"
        },
        {
          "data": {
            "image/png": "[encoded data removed]",
            "text/plain": [
              "<Figure size 432x288 with 1 Axes>"
            ]
          },
          "metadata": {},
          "output_type": "display_data"
        },
        {
          "name": "stdout",
          "output_type": "stream",
          "text": [
            "Final Training Accuracy: 0.9986357435197817\n",
            "Final Validation Accuracy: 0.7874396135265701\n"
          ]
        }
      ],
      "source": [
        "model = CNN()\n",
        "train(model, train_data, valid_data, batch_size=100, weight_decay=0.0,\n",
        "           learning_rate=0.001, num_epochs=35)"
      ]
    },
    {
      "cell_type": "markdown",
      "metadata": {
        "id": "j9AZbGH9xtOa"
      },
      "source": [
        "### Part (b) -- 2 points\n",
        "\n",
        "You should have tried several hyperparameter choices before deciding on one set\n",
        "of hyperparameters to use for Part (a).\n",
        "In this section, briefly explain the hyperparamter choices that you tried, \n",
        "and how they impacted your training."
      ]
    },
    {
      "cell_type": "code",
      "execution_count": null,
      "metadata": {
        "id": "tsfgAjxxxtOa"
      },
      "outputs": [],
      "source": [
        "# Your explanation goes here."
      ]
    },
    {
      "cell_type": "markdown",
      "metadata": {
        "id": "MRVGegS3hGZL"
      },
      "source": [
        "\n",
        "\n",
        "*   For hyperparameter batch_size=100, weight_decay=0.0, learning_rate=0.01, num_epochs=35, the model tend to overfitting to the data, obtaining the training accuracy of 100%. It capture too many features of the data and the model is complex with oscillation. \n",
        "*   For hyperparameter batch_size=100, weight_decay=0.0, learning_rate=0.0001, num_epochs=35, the model tend to underfitting to the data, obtaining the training accuracy of only 68%. It does not capture complex features of the data and the model is quite simple. \n",
        "\n"
      ]
    },
    {
      "cell_type": "markdown",
      "metadata": {
        "id": "zPR4oQ21xtOb"
      },
      "source": [
        "### Part (c) -- 5 points\n",
        "\n",
        "Train your second network on your training set.\n",
        "Plot the training curve, and include your plot in your writeup.\n",
        "\n",
        "Make sure that you are checkpointing frequently!"
      ]
    },
    {
      "cell_type": "code",
      "source": [
        "model_cnn_bn = CNN_bn()\n",
        "train(model, train_data, valid_data, batch_size=100, weight_decay=0.0,\n",
        "           learning_rate=0.001, num_epochs=25)"
      ],
      "metadata": {
        "id": "pWoKSWe_nd5O",
        "outputId": "e154b092-db39-4171-9dbf-fcd7d8ca6512",
        "colab": {
          "base_uri": "https://localhost:8080/",
          "height": 608
        }
      },
      "execution_count": null,
      "outputs": [
        {
          "output_type": "display_data",
          "data": {
            "text/plain": [
              "<Figure size 432x288 with 1 Axes>"
            ],
            "image/png": "[encoded data removed]"
          },
          "metadata": {
            "needs_background": "light"
          }
        },
        {
          "output_type": "display_data",
          "data": {
            "text/plain": [
              "<Figure size 432x288 with 1 Axes>"
            ],
            "image/png": "[encoded data removed]"
          },
          "metadata": {
            "needs_background": "light"
          }
        },
        {
          "output_type": "stream",
          "name": "stdout",
          "text": [
            "Final Training Accuracy: 0.9604365620736699\n",
            "Final Validation Accuracy: 0.7681159420289855\n"
          ]
        }
      ]
    },
    {
      "cell_type": "markdown",
      "source": [
        "### Part (d) -- 2 points\n",
        "\n",
        "You should have tried several hyperparameter choices before deciding on one set of hyperparameters to use for Part\n",
        "(c). In this section, briefly explain the hyperparamter choices that you tried, and how they impacted your training."
      ],
      "metadata": {
        "id": "DCmARdCdvyeF"
      }
    },
    {
      "cell_type": "code",
      "execution_count": null,
      "metadata": {
        "id": "uB2mnExCxtOc"
      },
      "outputs": [],
      "source": [
        "# Your explanation goes here."
      ]
    },
    {
      "cell_type": "markdown",
      "metadata": {
        "id": "flXR-I18Z_YZ"
      },
      "source": [
        "\n",
        "\n",
        "*   For hyperparameter batch_size=100, weight_decay=0.0, learning_rate=0.001, num_epochs=35, the model tend to overfitting to the data, obtaining the training accuracy of 100%. The model does not generalize and is too complex with oscillation, which capture too many features of the data. \n",
        "*   For hyperparameter batch_size=100, weight_decay=0.0, learning_rate=0.1, num_epochs=35, the model tend to underfitting to the data, obtaining the training accuracy of only 12%. The model is too simple without capturing enough information from data. \n",
        "\n",
        "\n",
        "\n",
        "\n",
        "\n",
        "\n",
        "\n",
        "\n"
      ]
    },
    {
      "cell_type": "markdown",
      "metadata": {
        "id": "P-hn29FcxtOc"
      },
      "source": [
        "### Part (e) -- 2 pts\n",
        "\n",
        "Out of all the models (i.e. parts (a) vs (c), and the various hyperparameter choices)\n",
        "that you tried, which model is the \"best\"?\n",
        "If you were to select a single set of weight values (checkpoints)\n",
        "to deploy and use in a real application, which would you choose?"
      ]
    },
    {
      "cell_type": "code",
      "execution_count": null,
      "metadata": {
        "id": "fn3nFfTOxtOd"
      },
      "outputs": [],
      "source": [
        "# Your explanation goes here."
      ]
    },
    {
      "cell_type": "markdown",
      "metadata": {
        "id": "i1Gh25qCd9ro"
      },
      "source": [
        "The model without batch normalization under hyperparameter batch_size=100, weight_decay=0.0, learning_rate=0.001, num_epochs=35 is the \"best\". I would use the weight values at iteration 100 because both validation and training accuracy are around 80%, and overfitting is minimal.\n"
      ]
    },
    {
      "cell_type": "markdown",
      "metadata": {
        "id": "acTz3JLMxtOd"
      },
      "source": [
        "## Question 5. Transfer Learning\n",
        "\n",
        "For many image classification tasks, it is generally not a good idea to train a\n",
        "very large deep neural network model from scratch due to the enormous compute\n",
        "requirements and lack of sufficient amounts of training data.\n",
        "\n",
        "One of the better options is to try using an existing model that performs a\n",
        "similar task to the one you need to solve. This method of using a\n",
        "pre-trained network for other similar tasks is broadly termed\n",
        "**Transfer Learning**. In this question, we will use Transfer Learning\n",
        "to extract features from the hand gesture images. Then, train a smaller\n",
        "network to use these features as input and classify the hand gestures.\n",
        "\n",
        "As you have learned from the CNN lecture, the AlexNet architecture played a pivotal role in\n",
        "establishing Deep Neural Nets as a go-to tool for image classification\n",
        "problems and we will use an ImageNet pre-trained AlexNet model to\n",
        "extract features in this assignment.\n",
        "\n",
        "### Part (a)\n",
        "\n",
        "Here is the code to load the AlexNet network, with pretrained weights.\n",
        "When you first run the code, PyTorch will download the pretrained weights\n",
        "from the internet."
      ]
    },
    {
      "cell_type": "code",
      "execution_count": null,
      "metadata": {
        "id": "TWuUi4-SxtOd",
        "colab": {
          "base_uri": "https://localhost:8080/",
          "height": 67,
          "referenced_widgets": [
            "a9a4c910c259492989e1a6f5f2dfe273",
            "c7bec9fbba7841c3a5072025dc9974c5",
            "f081154e124640288650b5b839cd6471",
            "f3425fec7a7c446ca3ebff5161b128f7",
            "35170ba92ceb4f6a853253b524629c8a",
            "4ead49fe4ff14fc580e4c34466a62eaa",
            "38a5cedfd2104add9486a32b8809aa5b",
            "f97a4a2614934990b7855c59f9637a8a",
            "8780891e042f4e89ac866ac117f04cf8",
            "7eac71a684c84d3ebdc210c8d5f03e52",
            "517a1708af934389bdd434e1c18eb7e0"
          ]
        },
        "outputId": "07a19fce-c79a-4ce0-c2f3-58f73057d9ba"
      },
      "outputs": [
        {
          "output_type": "stream",
          "name": "stderr",
          "text": [
            "Downloading: \"https://download.pytorch.org/models/alexnet-owt-7be5be79.pth\" to /root/.cache/torch/hub/checkpoints/alexnet-owt-7be5be79.pth\n"
          ]
        },
        {
          "output_type": "display_data",
          "data": {
            "text/plain": [
              "  0%|          | 0.00/233M [00:00<?, ?B/s]"
            ],
            "application/vnd.jupyter.widget-view+json": {
              "version_major": 2,
              "version_minor": 0,
              "model_id": "a9a4c910c259492989e1a6f5f2dfe273"
            }
          },
          "metadata": {}
        }
      ],
      "source": [
        "import torchvision.models\n",
        "alexnet = torchvision.models.alexnet(pretrained=True)"
      ]
    },
    {
      "cell_type": "markdown",
      "metadata": {
        "id": "LB0lc1nbxtOe"
      },
      "source": [
        "The `alexnet` model is split up into two components: `alexnet.features` and \n",
        "`alexnet.classifier`.  The first neural network component, `alexnet.features`,\n",
        "is used to\n",
        "computed convolutional features, which is taken as input in `alexnet.classifier`.\n",
        "\n",
        "The neural network `alexnet.features` expects an image tensor of shape\n",
        "Nx3x224x224 as inputs and it will output a tensor of shape Nx256x6x6 . (N = batch size).\n",
        "\n",
        "Here is an example code snippet showing how you can compute the AlexNet\n",
        "features for some images (your actual code might be different):"
      ]
    },
    {
      "cell_type": "code",
      "execution_count": null,
      "metadata": {
        "id": "8JUAyaE3xtOe"
      },
      "outputs": [],
      "source": [
        "img, label = train_data[0]\n",
        "features = alexnet.features(img.unsqueeze(0)).detach()"
      ]
    },
    {
      "cell_type": "markdown",
      "metadata": {
        "id": "RgwoNt9SxtOe"
      },
      "source": [
        "Note that the `.detach()` at the end will be necessary in your code. The reason is that\n",
        "PyTorch automatically builds computation graphs to be able to backpropagate\n",
        "gradients. If we did not explicitly \"detach\" this tensor from the AlexNet portion\n",
        "of the computation graph, PyTorch might try to backpropagate gradients to the AlexNet\n",
        "weight and tune the AlexNet weights.\n",
        "\n",
        "Compute the AlexNet features for each of your training, validation, and test data.\n",
        "In other words, create three new arrays called `train_data_features`, `valid_data_features`\n",
        "and `test_data_features`. Each of these arrays should contain tuples of the form \n",
        "`(alexnet_features, label)`"
      ]
    },
    {
      "cell_type": "code",
      "execution_count": null,
      "metadata": {
        "id": "sURWSkMExtOe"
      },
      "outputs": [],
      "source": [
        "#train data\n",
        "\n",
        "train_data_features = []\n",
        "for img, y in train_data:\n",
        "  features = alexnet.features(img.unsqueeze(0)).detach()  # compute the alex net features based on the image\n",
        "                                                          #1x256x6x6 tensor\n",
        "  train_data_features.append((features, y),)\n"
      ]
    },
    {
      "cell_type": "code",
      "source": [
        "#valid data\n",
        "valid_data_features = []\n",
        "for img, y in valid_data:\n",
        "  features = alexnet.features(img.unsqueeze(0)).detach()  # compute the alex net features based on the image\n",
        "                                                          #1x256x6x6 tensor\n",
        "  valid_data_features.append((features, y),)"
      ],
      "metadata": {
        "id": "DoX5sZ-yhEig"
      },
      "execution_count": null,
      "outputs": []
    },
    {
      "cell_type": "code",
      "source": [
        "#test data\n",
        "test_data_features = []\n",
        "for img, y in test_data:\n",
        "  features = alexnet.features(img.unsqueeze(0)).detach()  # compute the alex net features based on the image\n",
        "                                                          #1x256x6x6 tensor\n",
        "  test_data_features.append((features, y),)\n"
      ],
      "metadata": {
        "id": "Wd1NKVJBhyuf"
      },
      "execution_count": null,
      "outputs": []
    },
    {
      "cell_type": "markdown",
      "metadata": {
        "id": "0dOhOwFFxtOf"
      },
      "source": [
        "### Part (b)\n",
        "\n",
        "\n",
        "Create a multi-layer preceptron that\n",
        "takes **as input** these AlexNet features,\n",
        "and makes a prediction. Your model should be a subclass of `nn.Module`."
      ]
    },
    {
      "cell_type": "code",
      "execution_count": null,
      "metadata": {
        "id": "teBjNOtoxtOf"
      },
      "outputs": [],
      "source": [
        "class MLP(nn.Module):\n",
        "    def __init__(self):\n",
        "        super(MLP, self).__init__()\n",
        "        self.layer1 = nn.Linear(256*6*6, 100)\n",
        "        self.layer2 = nn.Linear(100, 9)        \n",
        "\n",
        "    def forward(self, x):\n",
        "        x = x.view(-1, 256 * 6 * 6)\n",
        "        activation1 = self.layer1(x)\n",
        "        activation1 = torch.relu(activation1)\n",
        "        activation2 = self.layer2(activation1)\n",
        "        return activation2"
      ]
    },
    {
      "cell_type": "markdown",
      "metadata": {
        "id": "CqhEls_WxtOf"
      },
      "source": [
        "### Part (c)\n",
        "\n",
        "Train the `MLP()` model for at least 6 epochs, and report\n",
        "on the maximum validation accuracy that you can attain.\n",
        "\n",
        "This model should train *much* faster since it has very few parameters.\n",
        "However, this model should attain much better accuracy much faster!"
      ]
    },
    {
      "cell_type": "code",
      "execution_count": null,
      "metadata": {
        "id": "biSF4t9-xtOg",
        "colab": {
          "base_uri": "https://localhost:8080/",
          "height": 608
        },
        "outputId": "eb55c51e-1c08-4e6c-d7f2-128f0226b873"
      },
      "outputs": [
        {
          "output_type": "display_data",
          "data": {
            "text/plain": [
              "<Figure size 432x288 with 1 Axes>"
            ],
            "image/png": "[encoded data removed]"
          },
          "metadata": {
            "needs_background": "light"
          }
        },
        {
          "output_type": "display_data",
          "data": {
            "text/plain": [
              "<Figure size 432x288 with 1 Axes>"
            ],
            "image/png": "[encoded data removed]"
          },
          "metadata": {
            "needs_background": "light"
          }
        },
        {
          "output_type": "stream",
          "name": "stdout",
          "text": [
            "Final Training Accuracy: 0.9836289222373806\n",
            "Final Validation Accuracy: 0.9227053140096618\n"
          ]
        }
      ],
      "source": [
        "mlp = MLP()\n",
        "train(mlp, train_data_features, valid_data_features, batch_size=100, weight_decay=0, learning_rate=0.0001, num_epochs=6)"
      ]
    },
    {
      "cell_type": "markdown",
      "metadata": {
        "id": "SyhOLxDoxtOg"
      },
      "source": [
        "## Question 6. Test Accuracy\n",
        "\n",
        "### Part (a) -- 5 pts\n",
        "\n",
        "Report the test accuracies of your **single best** model for the test set, including\n",
        "any model that you trained (including in Q5)."
      ]
    },
    {
      "cell_type": "code",
      "execution_count": null,
      "metadata": {
        "id": "XARcF1WtxtOg",
        "colab": {
          "base_uri": "https://localhost:8080/"
        },
        "outputId": "e0be1257-8471-4f1b-ca0f-680ac08b145b"
      },
      "outputs": [
        {
          "output_type": "stream",
          "name": "stdout",
          "text": [
            "MLP test accuracy:  0.7847533632286996\n",
            "CNN test accuracy: 0.6860986547085202\n",
            "CNN with batch norm test accuracy: 0.10762331838565023\n"
          ]
        }
      ],
      "source": [
        "# Write your code here. Make sure to include the test accuracy in your report\n",
        "print(\"MLP test accuracy: \", get_accuracy(mlp, test_data_features))\n",
        "print(\"CNN test accuracy:\", get_accuracy(model, test_data))\n",
        "print(\"CNN with batch norm test accuracy:\", get_accuracy(model_cnn_bn, test_data))\n"
      ]
    },
    {
      "cell_type": "markdown",
      "source": [
        "The single best model is the MLP model from question 5. Test accuracy is around 78.48%."
      ],
      "metadata": {
        "id": "kHi3aSc_7566"
      }
    },
    {
      "cell_type": "markdown",
      "metadata": {
        "id": "2NhQRBN3xtOg"
      },
      "source": [
        "### Part (b) -- 1 pts\n",
        "\n",
        "Display one image that your model correctly classified."
      ]
    },
    {
      "cell_type": "code",
      "execution_count": null,
      "metadata": {
        "id": "xDrPHzTwxtOh",
        "colab": {
          "base_uri": "https://localhost:8080/",
          "height": 269
        },
        "outputId": "d707670e-b336-43c2-8584-e09d9e8b30b4"
      },
      "outputs": [
        {
          "output_type": "display_data",
          "data": {
            "text/plain": [
              "<Figure size 432x288 with 1 Axes>"
            ],
            "image/png": "[encoded data removed]"
          },
          "metadata": {
            "needs_background": "light"
          }
        }
      ],
      "source": [
        "x = train_data[0][0]\n",
        "image = x.permute(1, 2, 0)\n",
        "plt.imshow(image.numpy())\n",
        "plt.show()"
      ]
    },
    {
      "cell_type": "markdown",
      "metadata": {
        "id": "9LDYQwQhxtOh"
      },
      "source": [
        "### Part (b) -- 1 pts\n",
        "\n",
        "Display one image that your model incorrectly classified. (If your test performance was 100%, please just say so.)"
      ]
    },
    {
      "cell_type": "code",
      "execution_count": null,
      "metadata": {
        "id": "Z06PQxVfxtOh",
        "colab": {
          "base_uri": "https://localhost:8080/",
          "height": 269
        },
        "outputId": "952a2600-1e30-4396-da3f-1d727266a9df"
      },
      "outputs": [
        {
          "output_type": "display_data",
          "data": {
            "text/plain": [
              "<Figure size 432x288 with 1 Axes>"
            ],
            "image/png": "[encoded data removed]"
          },
          "metadata": {
            "needs_background": "light"
          }
        }
      ],
      "source": [
        "x = train_data[12][0]\n",
        "image = x.permute(1, 2, 0)\n",
        "plt.imshow(image.numpy())\n",
        "plt.show()"
      ]
    },
    {
      "cell_type": "markdown",
      "metadata": {
        "id": "efpaE_fDxtOi"
      },
      "source": [
        "## Question 6. Work Allocation -- 2 pts\n",
        "\n",
        "This question is to make sure that if you are working with a partner, that\n",
        "you and your partner contributed equally to the assignment.\n",
        "\n",
        "Please have each team member write down the times that you worked on the\n",
        "assignment, and your contribution to the assignment."
      ]
    },
    {
      "cell_type": "code",
      "execution_count": null,
      "metadata": {
        "id": "pwIQk8OHxtOi"
      },
      "outputs": [],
      "source": [
        "# Your answer goes here"
      ]
    },
    {
      "cell_type": "markdown",
      "metadata": {
        "id": "tlEp03rv7MLm"
      },
      "source": [
        "Yiling Li: spend one and a half week on the assignment, completed Q1, Q2, Q3a and Q4, and do the review over other questions. \n",
        "\n",
        "Shijia Song: Spent a week and a half on assignment. Completed Q6, Q5,Q3c, Q3b, Q2c. Reviewed other questions."
      ]
    }
  ],
  "metadata": {
    "colab": {
      "collapsed_sections": [
        "qjV8cDmLxtOT",
        "9LDYQwQhxtOh"
      ],
      "provenance": [],
      "include_colab_link": true
    },
    "kernelspec": {
      "display_name": "Python 3",
      "name": "python3"
    },
    "language_info": {
      "name": "python"
    },
    "widgets": {
      "application/vnd.jupyter.widget-state+json": {
        "a9a4c910c259492989e1a6f5f2dfe273": {
          "model_module": "@jupyter-widgets/controls",
          "model_name": "HBoxModel",
          "model_module_version": "1.5.0",
          "state": {
            "_dom_classes": [],
            "_model_module": "@jupyter-widgets/controls",
            "_model_module_version": "1.5.0",
            "_model_name": "HBoxModel",
            "_view_count": null,
            "_view_module": "@jupyter-widgets/controls",
            "_view_module_version": "1.5.0",
            "_view_name": "HBoxView",
            "box_style": "",
            "children": [
              "IPY_MODEL_c7bec9fbba7841c3a5072025dc9974c5",
              "IPY_MODEL_f081154e124640288650b5b839cd6471",
              "IPY_MODEL_f3425fec7a7c446ca3ebff5161b128f7"
            ],
            "layout": "IPY_MODEL_35170ba92ceb4f6a853253b524629c8a"
          }
        },
        "c7bec9fbba7841c3a5072025dc9974c5": {
          "model_module": "@jupyter-widgets/controls",
          "model_name": "HTMLModel",
          "model_module_version": "1.5.0",
          "state": {
            "_dom_classes": [],
            "_model_module": "@jupyter-widgets/controls",
            "_model_module_version": "1.5.0",
            "_model_name": "HTMLModel",
            "_view_count": null,
            "_view_module": "@jupyter-widgets/controls",
            "_view_module_version": "1.5.0",
            "_view_name": "HTMLView",
            "description": "",
            "description_tooltip": null,
            "layout": "IPY_MODEL_4ead49fe4ff14fc580e4c34466a62eaa",
            "placeholder": "​",
            "style": "IPY_MODEL_38a5cedfd2104add9486a32b8809aa5b",
            "value": "100%"
          }
        },
        "f081154e124640288650b5b839cd6471": {
          "model_module": "@jupyter-widgets/controls",
          "model_name": "FloatProgressModel",
          "model_module_version": "1.5.0",
          "state": {
            "_dom_classes": [],
            "_model_module": "@jupyter-widgets/controls",
            "_model_module_version": "1.5.0",
            "_model_name": "FloatProgressModel",
            "_view_count": null,
            "_view_module": "@jupyter-widgets/controls",
            "_view_module_version": "1.5.0",
            "_view_name": "ProgressView",
            "bar_style": "success",
            "description": "",
            "description_tooltip": null,
            "layout": "IPY_MODEL_f97a4a2614934990b7855c59f9637a8a",
            "max": 244408911,
            "min": 0,
            "orientation": "horizontal",
            "style": "IPY_MODEL_8780891e042f4e89ac866ac117f04cf8",
            "value": 244408911
          }
        },
        "f3425fec7a7c446ca3ebff5161b128f7": {
          "model_module": "@jupyter-widgets/controls",
          "model_name": "HTMLModel",
          "model_module_version": "1.5.0",
          "state": {
            "_dom_classes": [],
            "_model_module": "@jupyter-widgets/controls",
            "_model_module_version": "1.5.0",
            "_model_name": "HTMLModel",
            "_view_count": null,
            "_view_module": "@jupyter-widgets/controls",
            "_view_module_version": "1.5.0",
            "_view_name": "HTMLView",
            "description": "",
            "description_tooltip": null,
            "layout": "IPY_MODEL_7eac71a684c84d3ebdc210c8d5f03e52",
            "placeholder": "​",
            "style": "IPY_MODEL_517a1708af934389bdd434e1c18eb7e0",
            "value": " 233M/233M [00:02&lt;00:00, 120MB/s]"
          }
        },
        "35170ba92ceb4f6a853253b524629c8a": {
          "model_module": "@jupyter-widgets/base",
          "model_name": "LayoutModel",
          "model_module_version": "1.2.0",
          "state": {
            "_model_module": "@jupyter-widgets/base",
            "_model_module_version": "1.2.0",
            "_model_name": "LayoutModel",
            "_view_count": null,
            "_view_module": "@jupyter-widgets/base",
            "_view_module_version": "1.2.0",
            "_view_name": "LayoutView",
            "align_content": null,
            "align_items": null,
            "align_self": null,
            "border": null,
            "bottom": null,
            "display": null,
            "flex": null,
            "flex_flow": null,
            "grid_area": null,
            "grid_auto_columns": null,
            "grid_auto_flow": null,
            "grid_auto_rows": null,
            "grid_column": null,
            "grid_gap": null,
            "grid_row": null,
            "grid_template_areas": null,
            "grid_template_columns": null,
            "grid_template_rows": null,
            "height": null,
            "justify_content": null,
            "justify_items": null,
            "left": null,
            "margin": null,
            "max_height": null,
            "max_width": null,
            "min_height": null,
            "min_width": null,
            "object_fit": null,
            "object_position": null,
            "order": null,
            "overflow": null,
            "overflow_x": null,
            "overflow_y": null,
            "padding": null,
            "right": null,
            "top": null,
            "visibility": null,
            "width": null
          }
        },
        "4ead49fe4ff14fc580e4c34466a62eaa": {
          "model_module": "@jupyter-widgets/base",
          "model_name": "LayoutModel",
          "model_module_version": "1.2.0",
          "state": {
            "_model_module": "@jupyter-widgets/base",
            "_model_module_version": "1.2.0",
            "_model_name": "LayoutModel",
            "_view_count": null,
            "_view_module": "@jupyter-widgets/base",
            "_view_module_version": "1.2.0",
            "_view_name": "LayoutView",
            "align_content": null,
            "align_items": null,
            "align_self": null,
            "border": null,
            "bottom": null,
            "display": null,
            "flex": null,
            "flex_flow": null,
            "grid_area": null,
            "grid_auto_columns": null,
            "grid_auto_flow": null,
            "grid_auto_rows": null,
            "grid_column": null,
            "grid_gap": null,
            "grid_row": null,
            "grid_template_areas": null,
            "grid_template_columns": null,
            "grid_template_rows": null,
            "height": null,
            "justify_content": null,
            "justify_items": null,
            "left": null,
            "margin": null,
            "max_height": null,
            "max_width": null,
            "min_height": null,
            "min_width": null,
            "object_fit": null,
            "object_position": null,
            "order": null,
            "overflow": null,
            "overflow_x": null,
            "overflow_y": null,
            "padding": null,
            "right": null,
            "top": null,
            "visibility": null,
            "width": null
          }
        },
        "38a5cedfd2104add9486a32b8809aa5b": {
          "model_module": "@jupyter-widgets/controls",
          "model_name": "DescriptionStyleModel",
          "model_module_version": "1.5.0",
          "state": {
            "_model_module": "@jupyter-widgets/controls",
            "_model_module_version": "1.5.0",
            "_model_name": "DescriptionStyleModel",
            "_view_count": null,
            "_view_module": "@jupyter-widgets/base",
            "_view_module_version": "1.2.0",
            "_view_name": "StyleView",
            "description_width": ""
          }
        },
        "f97a4a2614934990b7855c59f9637a8a": {
          "model_module": "@jupyter-widgets/base",
          "model_name": "LayoutModel",
          "model_module_version": "1.2.0",
          "state": {
            "_model_module": "@jupyter-widgets/base",
            "_model_module_version": "1.2.0",
            "_model_name": "LayoutModel",
            "_view_count": null,
            "_view_module": "@jupyter-widgets/base",
            "_view_module_version": "1.2.0",
            "_view_name": "LayoutView",
            "align_content": null,
            "align_items": null,
            "align_self": null,
            "border": null,
            "bottom": null,
            "display": null,
            "flex": null,
            "flex_flow": null,
            "grid_area": null,
            "grid_auto_columns": null,
            "grid_auto_flow": null,
            "grid_auto_rows": null,
            "grid_column": null,
            "grid_gap": null,
            "grid_row": null,
            "grid_template_areas": null,
            "grid_template_columns": null,
            "grid_template_rows": null,
            "height": null,
            "justify_content": null,
            "justify_items": null,
            "left": null,
            "margin": null,
            "max_height": null,
            "max_width": null,
            "min_height": null,
            "min_width": null,
            "object_fit": null,
            "object_position": null,
            "order": null,
            "overflow": null,
            "overflow_x": null,
            "overflow_y": null,
            "padding": null,
            "right": null,
            "top": null,
            "visibility": null,
            "width": null
          }
        },
        "8780891e042f4e89ac866ac117f04cf8": {
          "model_module": "@jupyter-widgets/controls",
          "model_name": "ProgressStyleModel",
          "model_module_version": "1.5.0",
          "state": {
            "_model_module": "@jupyter-widgets/controls",
            "_model_module_version": "1.5.0",
            "_model_name": "ProgressStyleModel",
            "_view_count": null,
            "_view_module": "@jupyter-widgets/base",
            "_view_module_version": "1.2.0",
            "_view_name": "StyleView",
            "bar_color": null,
            "description_width": ""
          }
        },
        "7eac71a684c84d3ebdc210c8d5f03e52": {
          "model_module": "@jupyter-widgets/base",
          "model_name": "LayoutModel",
          "model_module_version": "1.2.0",
          "state": {
            "_model_module": "@jupyter-widgets/base",
            "_model_module_version": "1.2.0",
            "_model_name": "LayoutModel",
            "_view_count": null,
            "_view_module": "@jupyter-widgets/base",
            "_view_module_version": "1.2.0",
            "_view_name": "LayoutView",
            "align_content": null,
            "align_items": null,
            "align_self": null,
            "border": null,
            "bottom": null,
            "display": null,
            "flex": null,
            "flex_flow": null,
            "grid_area": null,
            "grid_auto_columns": null,
            "grid_auto_flow": null,
            "grid_auto_rows": null,
            "grid_column": null,
            "grid_gap": null,
            "grid_row": null,
            "grid_template_areas": null,
            "grid_template_columns": null,
            "grid_template_rows": null,
            "height": null,
            "justify_content": null,
            "justify_items": null,
            "left": null,
            "margin": null,
            "max_height": null,
            "max_width": null,
            "min_height": null,
            "min_width": null,
            "object_fit": null,
            "object_position": null,
            "order": null,
            "overflow": null,
            "overflow_x": null,
            "overflow_y": null,
            "padding": null,
            "right": null,
            "top": null,
            "visibility": null,
            "width": null
          }
        },
        "517a1708af934389bdd434e1c18eb7e0": {
          "model_module": "@jupyter-widgets/controls",
          "model_name": "DescriptionStyleModel",
          "model_module_version": "1.5.0",
          "state": {
            "_model_module": "@jupyter-widgets/controls",
            "_model_module_version": "1.5.0",
            "_model_name": "DescriptionStyleModel",
            "_view_count": null,
            "_view_module": "@jupyter-widgets/base",
            "_view_module_version": "1.2.0",
            "_view_name": "StyleView",
            "description_width": ""
          }
        }
      }
    }
  },
  "nbformat": 4,
  "nbformat_minor": 0
}